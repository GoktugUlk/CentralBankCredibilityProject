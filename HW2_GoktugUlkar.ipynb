{
 "cells": [
  {
   "cell_type": "code",
   "execution_count": 1,
   "id": "b1b5b292-383a-46a6-a353-3c152163c627",
   "metadata": {},
   "outputs": [],
   "source": [
    "#Homework 2 Goktug Ulkar\n",
    "\n",
    "#I will get daily values for US 10 Year Bond Yields betwwen 01-01-2019 to the end of 2021\n",
    "\n",
    "#This data will also be useful for me in my thesis\n",
    "\n",
    "\n",
    "import requests\n",
    "import pandas as pd\n",
    "import numpy as np\n",
    "import matplotlib.pyplot as plt\n",
    "# import seaborn as sns"
   ]
  },
  {
   "cell_type": "code",
   "execution_count": 3,
   "id": "7af6cc1b-bfb3-4895-bb5d-60a0527d3731",
   "metadata": {},
   "outputs": [],
   "source": [
    "#Data is available in the US Department of Treasury website \n",
    "\n",
    "url = \"https://home.treasury.gov/resource-center/data-chart-center/interest-rates/TextView?type=daily_treasury_long_term_rate&field_tdr_date_value=2021\"\n",
    "df_pandas = pd.read_html(url)\n",
    "header = df_pandas[0].columns\n",
    "data = df_pandas[0].values\n",
    "\n",
    "\n"
   ]
  },
  {
   "cell_type": "code",
   "execution_count": 5,
   "id": "55db056d-8edf-4d87-945a-8de5b8a6c0df",
   "metadata": {},
   "outputs": [
    {
     "name": "stdout",
     "output_type": "stream",
     "text": [
      "2010\n",
      "2011\n",
      "2012\n",
      "2013\n",
      "2014\n",
      "2015\n",
      "2016\n",
      "2017\n",
      "2018\n",
      "2019\n",
      "2020\n",
      "2021\n"
     ]
    }
   ],
   "source": [
    "#Data is seperated into years and I have automated the process to get data from different URLs. Only the year part of the URl changes, so I have coded it so.\n",
    "\n",
    "vals = None\n",
    "for year in range(2010, 2022):\n",
    "    str_year = str(year)\n",
    "    url = url[:-4] + str_year\n",
    "    df = pd.read_html(url)[0]\n",
    "    print(str_year)\n",
    "    if vals is not None:\n",
    "        vals = np.vstack((vals, df.values))\n",
    "    else:\n",
    "        vals = df.values\n",
    "    \n",
    "#This process takes about 5-6 minutes.        \n",
    "    "
   ]
  },
  {
   "cell_type": "code",
   "execution_count": 6,
   "id": "7d97d62c-20ae-4a0f-9ec5-caba3b43903d",
   "metadata": {},
   "outputs": [],
   "source": [
    "df_all = pd.DataFrame(data=vals, columns=header)"
   ]
  },
  {
   "cell_type": "code",
   "execution_count": 7,
   "id": "4a6c78f7-c50b-45b2-858c-55c86c30d108",
   "metadata": {},
   "outputs": [],
   "source": [
    "df_final = df_all[['Date','LT COMPOSITE (>10 Yrs)', 'TREASURY 20-Yr CMT']]\n",
    "\n",
    "\n",
    "#data has about 16 empty columns, so i cleaned them here"
   ]
  },
  {
   "cell_type": "code",
   "execution_count": 8,
   "id": "9aaf7622-a0f5-4970-8027-0e3eb3e9560d",
   "metadata": {},
   "outputs": [
    {
     "data": {
      "text/html": [
       "<div>\n",
       "<style scoped>\n",
       "    .dataframe tbody tr th:only-of-type {\n",
       "        vertical-align: middle;\n",
       "    }\n",
       "\n",
       "    .dataframe tbody tr th {\n",
       "        vertical-align: top;\n",
       "    }\n",
       "\n",
       "    .dataframe thead th {\n",
       "        text-align: right;\n",
       "    }\n",
       "</style>\n",
       "<table border=\"1\" class=\"dataframe\">\n",
       "  <thead>\n",
       "    <tr style=\"text-align: right;\">\n",
       "      <th></th>\n",
       "      <th>Date</th>\n",
       "      <th>LT COMPOSITE (&gt;10 Yrs)</th>\n",
       "      <th>TREASURY 20-Yr CMT</th>\n",
       "    </tr>\n",
       "  </thead>\n",
       "  <tbody>\n",
       "    <tr>\n",
       "      <th>0</th>\n",
       "      <td>01/04/2010</td>\n",
       "      <td>4.42</td>\n",
       "      <td>4.6</td>\n",
       "    </tr>\n",
       "    <tr>\n",
       "      <th>1</th>\n",
       "      <td>01/05/2010</td>\n",
       "      <td>4.36</td>\n",
       "      <td>4.54</td>\n",
       "    </tr>\n",
       "    <tr>\n",
       "      <th>2</th>\n",
       "      <td>01/06/2010</td>\n",
       "      <td>4.45</td>\n",
       "      <td>4.63</td>\n",
       "    </tr>\n",
       "    <tr>\n",
       "      <th>3</th>\n",
       "      <td>01/07/2010</td>\n",
       "      <td>4.44</td>\n",
       "      <td>4.62</td>\n",
       "    </tr>\n",
       "    <tr>\n",
       "      <th>4</th>\n",
       "      <td>01/08/2010</td>\n",
       "      <td>4.43</td>\n",
       "      <td>4.61</td>\n",
       "    </tr>\n",
       "    <tr>\n",
       "      <th>...</th>\n",
       "      <td>...</td>\n",
       "      <td>...</td>\n",
       "      <td>...</td>\n",
       "    </tr>\n",
       "    <tr>\n",
       "      <th>2998</th>\n",
       "      <td>12/27/2021</td>\n",
       "      <td>1.87</td>\n",
       "      <td>1.92</td>\n",
       "    </tr>\n",
       "    <tr>\n",
       "      <th>2999</th>\n",
       "      <td>12/28/2021</td>\n",
       "      <td>1.88</td>\n",
       "      <td>1.94</td>\n",
       "    </tr>\n",
       "    <tr>\n",
       "      <th>3000</th>\n",
       "      <td>12/29/2021</td>\n",
       "      <td>1.94</td>\n",
       "      <td>2.0</td>\n",
       "    </tr>\n",
       "    <tr>\n",
       "      <th>3001</th>\n",
       "      <td>12/30/2021</td>\n",
       "      <td>1.91</td>\n",
       "      <td>1.97</td>\n",
       "    </tr>\n",
       "    <tr>\n",
       "      <th>3002</th>\n",
       "      <td>12/31/2021</td>\n",
       "      <td>1.89</td>\n",
       "      <td>1.94</td>\n",
       "    </tr>\n",
       "  </tbody>\n",
       "</table>\n",
       "<p>3003 rows × 3 columns</p>\n",
       "</div>"
      ],
      "text/plain": [
       "            Date LT COMPOSITE (>10 Yrs) TREASURY 20-Yr CMT\n",
       "0     01/04/2010                   4.42                4.6\n",
       "1     01/05/2010                   4.36               4.54\n",
       "2     01/06/2010                   4.45               4.63\n",
       "3     01/07/2010                   4.44               4.62\n",
       "4     01/08/2010                   4.43               4.61\n",
       "...          ...                    ...                ...\n",
       "2998  12/27/2021                   1.87               1.92\n",
       "2999  12/28/2021                   1.88               1.94\n",
       "3000  12/29/2021                   1.94                2.0\n",
       "3001  12/30/2021                   1.91               1.97\n",
       "3002  12/31/2021                   1.89               1.94\n",
       "\n",
       "[3003 rows x 3 columns]"
      ]
     },
     "execution_count": 8,
     "metadata": {},
     "output_type": "execute_result"
    }
   ],
   "source": [
    "df_final"
   ]
  },
  {
   "cell_type": "code",
   "execution_count": 9,
   "id": "42897db2-2878-48a7-9714-44d5ca294cf8",
   "metadata": {},
   "outputs": [
    {
     "data": {
      "image/png": "[encoded data removed]",
      "text/plain": [
       "<Figure size 640x480 with 1 Axes>"
      ]
     },
     "metadata": {},
     "output_type": "display_data"
    }
   ],
   "source": [
    "#just something extra\n",
    "plt.plot(df_final['LT COMPOSITE (>10 Yrs)'].values)\n",
    "plt.show()"
   ]
  },
  {
   "cell_type": "code",
   "execution_count": null,
   "id": "3c5d49ca-8340-48e8-8713-d3e4e204927f",
   "metadata": {},
   "outputs": [],
   "source": []
  }
 ],
 "metadata": {
  "kernelspec": {
   "display_name": "Python 3 (ipykernel)",
   "language": "python",
   "name": "python3"
  },
  "language_info": {
   "codemirror_mode": {
    "name": "ipython",
    "version": 3
   },
   "file_extension": ".py",
   "mimetype": "text/x-python",
   "name": "python",
   "nbconvert_exporter": "python",
   "pygments_lexer": "ipython3",
   "version": "3.10.8"
  }
 },
 "nbformat": 4,
 "nbformat_minor": 5
}
